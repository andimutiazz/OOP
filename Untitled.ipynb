{
 "cells": [
  {
   "cell_type": "code",
   "execution_count": null,
   "id": "e1d7432c-bd40-43bb-b227-fae7a851067c",
   "metadata": {},
   "outputs": [],
   "source": [
    "class Superhero():\n",
    "    nama = None\n",
    "    gender = None\n",
    "    tingi_badan = None\n",
    "    tempat_asal = None\n",
    "    \n",
    "    def menyerang(self): \n",
    "        print(f\"{self.nama} sedang menyerang Loki\")\n",
    "        \n",
    "    def tidur (self):\n",
    "        print(f\"{self.nama} sedang tidur di Asgard\")\n",
    "    \n",
    "    def makan (self):\n",
    "        print(f\"{self.nama} sedang makan batagor\")\n",
    "\n",
    "\n",
    "    "
   ]
  },
  {
   "cell_type": "code",
   "execution_count": null,
   "id": "9123514c-5856-4c24-b41b-0c8d8ba9b4b6",
   "metadata": {},
   "outputs": [],
   "source": [
    "Thor = Superhero()\n",
    "Spiderman = Superhero()\n",
    "Ironman = Superhero()"
   ]
  },
  {
   "cell_type": "code",
   "execution_count": null,
   "id": "41127164-2354-42d1-9c96-8c76c9c5b633",
   "metadata": {},
   "outputs": [],
   "source": [
    "Thor.nama = 'Thor'\n",
    "Thor.gender = 'Male'\n",
    "Thor.tinggi_badan = 185\n",
    "Thor.tempat_asal = 'Asgard'"
   ]
  },
  {
   "cell_type": "code",
   "execution_count": null,
   "id": "fba09497-8111-4674-b12e-1f0262a6c7e9",
   "metadata": {},
   "outputs": [
    {
     "name": "stdout",
     "output_type": "stream",
     "text": [
      "Male\n"
     ]
    }
   ],
   "source": [
    "print(Thor.gender)"
   ]
  },
  {
   "cell_type": "code",
   "execution_count": null,
   "id": "abe4dfc9-cf64-41cc-94c8-b00bb93b70aa",
   "metadata": {},
   "outputs": [
    {
     "name": "stdout",
     "output_type": "stream",
     "text": [
      "Thor sedang menyerang Loki\n"
     ]
    }
   ],
   "source": [
    "Thor.menyerang()"
   ]
  },
  {
   "cell_type": "code",
   "execution_count": null,
   "id": "6a8c4d71-9f61-4f66-8b19-893c36a08370",
   "metadata": {},
   "outputs": [],
   "source": [
    "class Paus():\n",
    "    spesies = None\n",
    "    panjang_tubuh = None\n",
    "    berat_tubuh = None\n",
    "    habitat = None\n",
    "    \n",
    "    def bernafas(self):\n",
    "        print(f'{self.spesies} bernafas menggunakan paru-paru')\n",
    "    \n",
    "    def makan(self):\n",
    "        print(f'{self.spesies} memakan plankton laut')\n",
    "    \n",
    "    def berkembang_biak(self):\n",
    "        print('{} berkembang biak dengan beranak'.format(spesies))"
   ]
  },
  {
   "cell_type": "code",
   "execution_count": null,
   "id": "76370f5c-cdf5-4f70-92be-0804c4b08479",
   "metadata": {},
   "outputs": [],
   "source": [
    "Paus.spesies = 'blue whale'\n",
    "Paus.panjang_tubuh = 565"
   ]
  }
 ],
 "metadata": {
  "kernelspec": {
   "display_name": "Python 3 (ipykernel)",
   "language": "python",
   "name": "python3"
  },
  "language_info": {
   "codemirror_mode": {
    "name": "ipython",
    "version": 3
   },
   "file_extension": ".py",
   "mimetype": "text/x-python",
   "name": "python",
   "nbconvert_exporter": "python",
   "pygments_lexer": "ipython3",
   "version": "3.9.12"
  }
 },
 "nbformat": 4,
 "nbformat_minor": 5
}
